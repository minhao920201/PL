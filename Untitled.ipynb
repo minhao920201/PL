{
 "cells": [
  {
   "cell_type": "code",
   "execution_count": 15,
   "id": "7931ec74",
   "metadata": {},
   "outputs": [
    {
     "data": {
      "text/plain": [
       "{'name': '甲',\n",
       " 'age': 40,\n",
       " '罪責': {'第62條': '汽車駕駛人駕駛汽車肇事', '第12條': '汽車使用吊銷、註銷之牌照'},\n",
       " '罰鍰': {'第62條': 2000, '第12條': 5000}}"
      ]
     },
     "execution_count": 15,
     "metadata": {},
     "output_type": "execute_result"
    }
   ],
   "source": [
    "person1 = {'name':'甲',\n",
    "           'age':40,\n",
    "           '罪責':{'第62條':'汽車駕駛人駕駛汽車肇事','第12條':'汽車使用吊銷、註銷之牌照'},\n",
    "           '罰鍰':{'第62條':2000,'第12條':5000}\n",
    "          }\n",
    "person1"
   ]
  },
  {
   "cell_type": "code",
   "execution_count": 18,
   "id": "539c4c3b",
   "metadata": {},
   "outputs": [
    {
     "data": {
      "text/plain": [
       "{'name': '乙',\n",
       " 'age': 52,\n",
       " '罪責': {'第16條': '裝置高音量喇叭或其他產生噪音器物',\n",
       "  '第56條': '在禁止臨時停車處所停車',\n",
       "  '第82條': '未經許可在道路擺設攤位',\n",
       "  '第17條': '汽車不依限期參加定期檢驗或臨時檢驗'},\n",
       " '罰鍰': {'第16條': 1200, '第56條': 800, '第82條': 1500, '第17條': 900}}"
      ]
     },
     "execution_count": 18,
     "metadata": {},
     "output_type": "execute_result"
    }
   ],
   "source": [
    "person2 = {'name':'乙',\n",
    "           'age':52,\n",
    "           '罪責':{'第16條':'裝置高音量喇叭或其他產生噪音器物','第56條':'在禁止臨時停車處所停車','第82條':'未經許可在道路擺設攤位','第17條':'汽車不依限期參加定期檢驗或臨時檢驗'},\n",
    "           '罰鍰':{'第16條':1200,'第56條':800,'第82條':1500,'第17條':900}\n",
    "          }\n",
    "person2"
   ]
  },
  {
   "cell_type": "code",
   "execution_count": 20,
   "id": "61a9deb8",
   "metadata": {},
   "outputs": [
    {
     "data": {
      "text/plain": [
       "{'name': '丙',\n",
       " 'age': 63,\n",
       " '罪責': {'第21條': '未領有駕駛執照駕駛小型車或機車'},\n",
       " '罰鍰': {'第21條': 8000}}"
      ]
     },
     "execution_count": 20,
     "metadata": {},
     "output_type": "execute_result"
    }
   ],
   "source": [
    "person3 = {'name':'丙',\n",
    "           'age':63,\n",
    "           '罪責':{'第21條':'未領有駕駛執照駕駛小型車或機車'},\n",
    "           '罰鍰':{'第21條':8000}\n",
    "          }\n",
    "person3"
   ]
  },
  {
   "cell_type": "code",
   "execution_count": null,
   "id": "b0ef647c",
   "metadata": {},
   "outputs": [],
   "source": [
    "while()"
   ]
  }
 ],
 "metadata": {
  "kernelspec": {
   "display_name": "Python 3 (ipykernel)",
   "language": "python",
   "name": "python3"
  },
  "language_info": {
   "codemirror_mode": {
    "name": "ipython",
    "version": 3
   },
   "file_extension": ".py",
   "mimetype": "text/x-python",
   "name": "python",
   "nbconvert_exporter": "python",
   "pygments_lexer": "ipython3",
   "version": "3.9.12"
  }
 },
 "nbformat": 4,
 "nbformat_minor": 5
}
