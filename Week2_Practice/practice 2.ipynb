{
 "cells": [
  {
   "cell_type": "code",
   "execution_count": 6,
   "id": "95eda8ef",
   "metadata": {},
   "outputs": [
    {
     "name": "stdout",
     "output_type": "stream",
     "text": [
      "總共償還: 12608\n"
     ]
    }
   ],
   "source": [
    "money = 11805\n",
    "rate = 0.0005\n",
    "month1 = 150\n",
    "month2 = 300\n",
    "sum = money*(1+rate)**59+month1+month2\n",
    "print(\"總共償還:\",int(sum))"
   ]
  },
  {
   "cell_type": "code",
   "execution_count": null,
   "id": "51e9681b",
   "metadata": {},
   "outputs": [],
   "source": []
  },
  {
   "cell_type": "code",
   "execution_count": null,
   "id": "624e7f09",
   "metadata": {},
   "outputs": [],
   "source": []
  }
 ],
 "metadata": {
  "kernelspec": {
   "display_name": "Python 3 (ipykernel)",
   "language": "python",
   "name": "python3"
  },
  "language_info": {
   "codemirror_mode": {
    "name": "ipython",
    "version": 3
   },
   "file_extension": ".py",
   "mimetype": "text/x-python",
   "name": "python",
   "nbconvert_exporter": "python",
   "pygments_lexer": "ipython3",
   "version": "3.9.12"
  }
 },
 "nbformat": 4,
 "nbformat_minor": 5
}
