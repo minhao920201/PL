{
 "cells": [
  {
   "cell_type": "code",
   "execution_count": null,
   "id": "54ab4105",
   "metadata": {},
   "outputs": [],
   "source": [
    "import json #載入json模組\n",
    "test = open('JSONcrawler.json',encoding=\"utf8\") #開檔\n",
    "Data = json.load(test) #反序列化(decode)\n",
    "#把蒐集到的資料印出來\n",
    "temp = Data.get('Article') #取得 key = \"Title\" 的 value \n",
    "temp #印出 key = \"Title\" 的 value"
   ]
  },
  {
   "cell_type": "code",
   "execution_count": null,
   "id": "41005e0e",
   "metadata": {},
   "outputs": [],
   "source": [
    "#印出不同\"標籤\"出現次數\n",
    "dic = {} #紀錄下面取得的不同\"標籤\"出現次數\n",
    "for i in temp: #從 list 中一個一個列舉出 dict\n",
    "    #print(li['標籤'])\n",
    "    for j in i['標籤']: #列舉出每個 key = \"標籤\" 的 value\n",
    "        dic[j] = dic.get(j,0)+1 #檢查\"標籤\"中的每個字串是否出現在 dic 中。如果沒出現，則加入 dic 裡，並使其 value=1 ; 否則已經出現就將其 value+1\n",
    "dic #利用dic印出不同\"標籤\"出現次數"
   ]
  },
  {
   "cell_type": "code",
   "execution_count": null,
   "id": "11a6d6fa",
   "metadata": {},
   "outputs": [],
   "source": [
    "for i in dic:\n",
    "    if dic[i]>20:\n",
    "        print(i,\":\",dic[i])"
   ]
  }
 ],
 "metadata": {
  "kernelspec": {
   "display_name": "Python 3 (ipykernel)",
   "language": "python",
   "name": "python3"
  },
  "language_info": {
   "codemirror_mode": {
    "name": "ipython",
    "version": 3
   },
   "file_extension": ".py",
   "mimetype": "text/x-python",
   "name": "python",
   "nbconvert_exporter": "python",
   "pygments_lexer": "ipython3",
   "version": "3.9.12"
  }
 },
 "nbformat": 4,
 "nbformat_minor": 5
}
