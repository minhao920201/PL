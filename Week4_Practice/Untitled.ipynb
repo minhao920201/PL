{
 "cells": [
  {
   "cell_type": "code",
   "execution_count": 9,
   "id": "7931ec74",
   "metadata": {},
   "outputs": [
    {
     "ename": "SyntaxError",
     "evalue": "invalid syntax (1185807095.py, line 3)",
     "output_type": "error",
     "traceback": [
      "\u001b[1;36m  Input \u001b[1;32mIn [9]\u001b[1;36m\u001b[0m\n\u001b[1;33m    \"罰款\":[[{\"第16條\":\"裝置高音量喇叭或其他產生噪音器物\"},{\"第17條\":\"汽車不依限期參加定期檢驗或臨時檢驗\"},{\"第62條\":\"汽車駕駛人駕駛汽車肇事\"}{\"第21條\",\"未領有駕駛執照駕駛小型車或機車\"}],[2]]\u001b[0m\n\u001b[1;37m                                                                                          ^\u001b[0m\n\u001b[1;31mSyntaxError\u001b[0m\u001b[1;31m:\u001b[0m invalid syntax\n"
     ]
    }
   ],
   "source": [
    "dic = {\"name\":[\"阿程\",\"阿力\",\"阿瑤\"],\n",
    "       \"age\":[34,29,58],\n",
    "       \"罰款\":[[{\"第16條\":\"裝置高音量喇叭或其他產生噪音器物\"},{\"第17條\":\"汽車不依限期參加定期檢驗或臨時檢驗\"},{\"第62條\":\"汽車駕駛人駕駛汽車肇事\"}{\"第21條\",\"未領有駕駛執照駕駛小型車或機車\"}],[2]]\n",
    "dic"
   ]
  },
  {
   "cell_type": "code",
   "execution_count": null,
   "id": "a1143b2e",
   "metadata": {},
   "outputs": [],
   "source": []
  }
 ],
 "metadata": {
  "kernelspec": {
   "display_name": "Python 3 (ipykernel)",
   "language": "python",
   "name": "python3"
  },
  "language_info": {
   "codemirror_mode": {
    "name": "ipython",
    "version": 3
   },
   "file_extension": ".py",
   "mimetype": "text/x-python",
   "name": "python",
   "nbconvert_exporter": "python",
   "pygments_lexer": "ipython3",
   "version": "3.9.12"
  }
 },
 "nbformat": 4,
 "nbformat_minor": 5
}
