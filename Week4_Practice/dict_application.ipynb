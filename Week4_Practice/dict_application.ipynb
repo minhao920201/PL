{
 "cells": [
  {
   "cell_type": "code",
   "execution_count": 1,
   "id": "7931ec74",
   "metadata": {},
   "outputs": [
    {
     "data": {
      "text/plain": [
       "{'person1': {'name': '甲',\n",
       "  'age': 34,\n",
       "  '罪責': {'第16條': '裝置高音量喇叭或其他產生噪音器物',\n",
       "   '第17條': '汽車不依限期參加定期檢驗或臨時檢驗',\n",
       "   '第62條': '汽車駕駛人駕駛汽車肇事',\n",
       "   '第21條': '未領有駕駛執照駕駛小型車或機車'},\n",
       "  '罰鍰': {'第16條': 1600, '第17條': 1500, '第62條': 2500, '第21條': 10500}},\n",
       " 'person2': {'name': '乙',\n",
       "  'age': 29,\n",
       "  '罪責': {'第12條': '汽車使用吊銷、註銷之牌照'},\n",
       "  '罰鍰': {'第12條': 5000}},\n",
       " 'person3': {'name': '丙',\n",
       "  'age': 58,\n",
       "  '罪責': {'第82條': '未經許可在道路擺設攤位', '第56條': '在禁止臨時停車處所停車'},\n",
       "  '罰鍰': {'第82條': 2000, '第56條': 1000}}}"
      ]
     },
     "execution_count": 1,
     "metadata": {},
     "output_type": "execute_result"
    }
   ],
   "source": [
    "d = {\n",
    "'person1' : {'name':'甲',\n",
    "           'age':34,\n",
    "           '罪責':{\n",
    "               '第16條':'裝置高音量喇叭或其他產生噪音器物',\n",
    "               '第17條':'汽車不依限期參加定期檢驗或臨時檢驗',\n",
    "               '第62條':'汽車駕駛人駕駛汽車肇事',\n",
    "               '第21條':'未領有駕駛執照駕駛小型車或機車'\n",
    "           },\n",
    "           '罰鍰':{\n",
    "               '第16條':1600,\n",
    "               '第17條':1500,\n",
    "               '第62條':2500,\n",
    "               '第21條':10500\n",
    "           }},\n",
    "\n",
    "'person2' : {'name':'乙',\n",
    "           'age':29,\n",
    "           '罪責':{\n",
    "               '第12條':'汽車使用吊銷、註銷之牌照'\n",
    "           },\n",
    "           \n",
    "           '罰鍰':{\n",
    "               '第12條':5000\n",
    "           }},\n",
    "\n",
    "'person3' : {'name':'丙',\n",
    "           'age':58,\n",
    "           '罪責':{\n",
    "               '第82條':'未經許可在道路擺設攤位',\n",
    "               '第56條':'在禁止臨時停車處所停車'\n",
    "           },\n",
    "           '罰鍰':{\n",
    "               '第82條':2000,\n",
    "               '第56條':1000\n",
    "           }}\n",
    "}\n",
    "d"
   ]
  },
  {
   "cell_type": "code",
   "execution_count": 22,
   "id": "f4aff8bf",
   "metadata": {},
   "outputs": [
    {
     "name": "stdout",
     "output_type": "stream",
     "text": [
      "甲\n"
     ]
    }
   ],
   "source": [
    "while True:\n",
    "    name = input()\n",
    "    if name=='甲':\n",
    "        break\n",
    "    elif name=='乙':\n",
    "        break\n",
    "    elif name=='丙':\n",
    "        break"
   ]
  },
  {
   "cell_type": "code",
   "execution_count": 40,
   "id": "d2cc6024",
   "metadata": {},
   "outputs": [],
   "source": [
    "def number_of_guilt(dic):\n",
    "    count = 0\n",
    "    for i in dic:\n",
    "        count+=1\n",
    "    return count"
   ]
  },
  {
   "cell_type": "code",
   "execution_count": 45,
   "id": "f2c672b8",
   "metadata": {},
   "outputs": [],
   "source": [
    "def money(dic):\n",
    "    total = 0\n",
    "    for i in dic.values():\n",
    "        total+=i\n",
    "    return total"
   ]
  },
  {
   "cell_type": "code",
   "execution_count": 47,
   "id": "350b02fd",
   "metadata": {},
   "outputs": [
    {
     "name": "stdout",
     "output_type": "stream",
     "text": [
      "Name : 甲\n",
      "Age : 34\n",
      "共觸犯(條) : 4\n",
      "條例內容 : {'第16條': '裝置高音量喇叭或其他產生噪音器物', '第17條': '汽車不依限期參加定期檢驗或臨時檢驗', '第62條': '汽車駕駛人駕駛汽車肇事', '第21條': '未領有駕駛執照駕駛小型車或機車'}\n",
      "罰鍰總額 : 16100\n",
      "詳細內容 : {'第16條': 1600, '第17條': 1500, '第62條': 2500, '第21條': 10500}\n"
     ]
    }
   ],
   "source": [
    "for i in d.values():\n",
    "    if i['name']==name:\n",
    "        print('Name :',i['name'])\n",
    "        print('Age :',i['age'])\n",
    "        print('共觸犯(條) :',number_of_guilt(i['罪責']))\n",
    "        print('條例內容 :',i['罪責'])\n",
    "        print('罰鍰總額 :',money(i['罰鍰']))\n",
    "        print('詳細內容 :',i['罰鍰'])"
   ]
  },
  {
   "cell_type": "code",
   "execution_count": null,
   "id": "01d2dcb5",
   "metadata": {},
   "outputs": [],
   "source": []
  }
 ],
 "metadata": {
  "kernelspec": {
   "display_name": "Python 3 (ipykernel)",
   "language": "python",
   "name": "python3"
  },
  "language_info": {
   "codemirror_mode": {
    "name": "ipython",
    "version": 3
   },
   "file_extension": ".py",
   "mimetype": "text/x-python",
   "name": "python",
   "nbconvert_exporter": "python",
   "pygments_lexer": "ipython3",
   "version": "3.9.12"
  }
 },
 "nbformat": 4,
 "nbformat_minor": 5
}
