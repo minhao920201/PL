{
 "cells": [
  {
   "cell_type": "code",
   "execution_count": 8,
   "id": "76832bf7",
   "metadata": {},
   "outputs": [
    {
     "name": "stdout",
     "output_type": "stream",
     "text": [
      "{'無期徒刑', '褫奪公權', '沒收', '罰金', '有期徒刑'}\n",
      "{'無期徒刑', '褫奪公權'}\n",
      "{'罰金'}\n",
      "True\n",
      "True\n"
     ]
    }
   ],
   "source": [
    "sA = {'有期徒刑','沒收','罰金'}\n",
    "sB = {'無期徒刑','罰金','褫奪公權'}\n",
    "print(sA|sB)\n",
    "\n",
    "print(sB-sA)\n",
    "\n",
    "print(sA&sB)\n",
    "print('罰金' in sA)\n",
    "print('罰金' in sB)"
   ]
  },
  {
   "cell_type": "code",
   "execution_count": null,
   "id": "526f2091",
   "metadata": {},
   "outputs": [],
   "source": []
  }
 ],
 "metadata": {
  "kernelspec": {
   "display_name": "Python 3 (ipykernel)",
   "language": "python",
   "name": "python3"
  },
  "language_info": {
   "codemirror_mode": {
    "name": "ipython",
    "version": 3
   },
   "file_extension": ".py",
   "mimetype": "text/x-python",
   "name": "python",
   "nbconvert_exporter": "python",
   "pygments_lexer": "ipython3",
   "version": "3.9.12"
  }
 },
 "nbformat": 4,
 "nbformat_minor": 5
}
