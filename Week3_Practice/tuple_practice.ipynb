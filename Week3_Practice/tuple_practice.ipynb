{
 "cells": [
  {
   "cell_type": "code",
   "execution_count": 3,
   "id": "724639f7",
   "metadata": {},
   "outputs": [
    {
     "name": "stdout",
     "output_type": "stream",
     "text": [
      "('最高法院民事判例', '最高法院刑事判例', '行政法院判例')\n",
      "<zip object at 0x00000220AC76B500>\n",
      "[('最高法院民事判例', 7), ('最高法院刑事判例', 3), ('行政法院判例', 5)]\n"
     ]
    }
   ],
   "source": [
    "t1 = (\"最高法院民事判例\",\"最高法院刑事判例\",\"行政法院判例\",\"大法官解釋\")\n",
    "t2 = (7,3,5,4)\n",
    "\n",
    "t3 = t1[:3]\n",
    "print(t3)\n",
    "\n",
    "z = zip(t3,t2)\n",
    "print(z)\n",
    "\n",
    "z = list(z)\n",
    "print(z)"
   ]
  },
  {
   "cell_type": "code",
   "execution_count": null,
   "id": "ba000f14",
   "metadata": {},
   "outputs": [],
   "source": []
  }
 ],
 "metadata": {
  "kernelspec": {
   "display_name": "Python 3 (ipykernel)",
   "language": "python",
   "name": "python3"
  },
  "language_info": {
   "codemirror_mode": {
    "name": "ipython",
    "version": 3
   },
   "file_extension": ".py",
   "mimetype": "text/x-python",
   "name": "python",
   "nbconvert_exporter": "python",
   "pygments_lexer": "ipython3",
   "version": "3.9.12"
  }
 },
 "nbformat": 4,
 "nbformat_minor": 5
}
