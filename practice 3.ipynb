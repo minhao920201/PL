{
 "cells": [
  {
   "cell_type": "code",
   "execution_count": 5,
   "id": "aab868e5",
   "metadata": {},
   "outputs": [
    {
     "name": "stdout",
     "output_type": "stream",
     "text": [
      "請輸入案件:\n",
      "請填入有效訊息\n"
     ]
    }
   ],
   "source": [
    "event_li = [\"被告闖紅燈\",\"原告闖紅燈\",\"被告原告皆闖紅燈\"]\n",
    "result_li = [\"被告陪100%\",\"原告多被告少\",\"原告50%被告50%\"]\n",
    "event = input(\"請輸入案件:\")\n",
    "count = 3\n",
    "for i in range(3):\n",
    "    if event==event_li[i]:\n",
    "        print(result_li[i])\n",
    "    else:\n",
    "        count-=1\n",
    "if count==0:\n",
    "    print(\"請填入有效訊息\")"
   ]
  },
  {
   "cell_type": "code",
   "execution_count": null,
   "id": "e3d25f35",
   "metadata": {},
   "outputs": [],
   "source": []
  }
 ],
 "metadata": {
  "kernelspec": {
   "display_name": "Python 3 (ipykernel)",
   "language": "python",
   "name": "python3"
  },
  "language_info": {
   "codemirror_mode": {
    "name": "ipython",
    "version": 3
   },
   "file_extension": ".py",
   "mimetype": "text/x-python",
   "name": "python",
   "nbconvert_exporter": "python",
   "pygments_lexer": "ipython3",
   "version": "3.9.12"
  }
 },
 "nbformat": 4,
 "nbformat_minor": 5
}
