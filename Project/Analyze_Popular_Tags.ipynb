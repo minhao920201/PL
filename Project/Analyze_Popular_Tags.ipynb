{
 "cells": [
  {
   "cell_type": "code",
   "execution_count": null,
   "id": "89fe6014",
   "metadata": {},
   "outputs": [],
   "source": [
    "import json\n",
    "import pandas as pd\n",
    "import re\n",
    "import jieba\n",
    "import jieba.analyse\n",
    "test = open('JSONcrawler.json',encoding=\"utf8\") #開檔\n",
    "Data = json.load(test) #反序列化(decode)\n",
    "temp = Data.get('Article') #取得 key = \"Article\" 的 value\n",
    "temp"
   ]
  },
  {
   "cell_type": "code",
   "execution_count": null,
   "id": "d2641a54",
   "metadata": {},
   "outputs": [],
   "source": [
    "#計算不同\"標籤\"出現次數\n",
    "dic = {} #紀錄下面取得的不同\"標籤\"出現次數\n",
    "for i in temp: #從 list 中一個一個列舉出 dict\n",
    "    #print(li['標籤'])\n",
    "    for j in i['標籤']: #列舉出每個 key = \"標籤\" 的 value\n",
    "        dic[j] = dic.get(j,0)+1 #檢查\"標籤\"中的每個字串是否出現在 dic 中。如果沒出現，則加入 dic 裡，並使其 value=1 ; 否則已經出現就將其 value+1\n",
    "dic"
   ]
  },
  {
   "cell_type": "code",
   "execution_count": null,
   "id": "15e5b186",
   "metadata": {},
   "outputs": [],
   "source": [
    "li_key = []\n",
    "li_value = []\n",
    "for i in dic:\n",
    "    li_key.append(i) #將每個標籤名稱加入 list 中\n",
    "    li_value.append(dic[i]) #將每個標籤出現過的次數加入 list 中\n",
    "\n",
    "\n",
    "#排序 (由高到低排序\"標籤出現的次數\")\n",
    "li_value.sort(reverse = True) #將\"標籤出現次數\"由大到小排序\n",
    "li_key_sorted = [] #存放排序好的\"標籤\"\n",
    "length = len(li_key) #\"標籤\"總數\n",
    "\n",
    "\n",
    "#利用迴圈排序\"標籤\"\n",
    "for i in range(length):\n",
    "    for j in dic:\n",
    "        if li_value[i] == dic[j]:\n",
    "            li_key_sorted.append(j)\n",
    "\n",
    "Popular = 0\n",
    "dic_sort = {}\n",
    "#利用迴圈印出排序後的結果\n",
    "for i in range(length):\n",
    "    dic_sort[li_key_sorted[i]] = li_value[i]\n",
    "    if Popular <= 10:\n",
    "        print(li_key_sorted[i],\":\",li_value[i])\n",
    "    Popular += 1\n"
   ]
  },
  {
   "cell_type": "code",
   "execution_count": null,
   "id": "133b0c5d",
   "metadata": {},
   "outputs": [],
   "source": [
    "# 做出文字雲\n",
    "from PIL import Image\n",
    "import matplotlib.pyplot as plt\n",
    "from wordcloud import WordCloud\n",
    "import numpy as np\n",
    "\n",
    "mask = np.array(Image.open(\"IT.png\"))\n",
    "font = \"C:\\Windows\\Fonts\\MSJH.TTC\"\n",
    "\n",
    "wordcloud = WordCloud(background_color = \"white\", font_path=font, mask = mask)\n",
    "wordcloud.generate_from_frequencies(dic)\n",
    "\n",
    "plt.figure(figsize=(20,20))\n",
    "plt.imshow(wordcloud)\n",
    "plt.axis(\"off\")\n",
    "plt.savefig(\"Word Cloud\")\n",
    "plt.show()"
   ]
  }
 ],
 "metadata": {
  "kernelspec": {
   "display_name": "Python 3 (ipykernel)",
   "language": "python",
   "name": "python3"
  },
  "language_info": {
   "codemirror_mode": {
    "name": "ipython",
    "version": 3
   },
   "file_extension": ".py",
   "mimetype": "text/x-python",
   "name": "python",
   "nbconvert_exporter": "python",
   "pygments_lexer": "ipython3",
   "version": "3.9.12"
  }
 },
 "nbformat": 4,
 "nbformat_minor": 5
}
