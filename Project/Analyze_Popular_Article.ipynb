{
 "cells": [
  {
   "cell_type": "code",
   "execution_count": null,
   "id": "ffa0b497",
   "metadata": {},
   "outputs": [],
   "source": [
    "import json\n",
    "import pandas as pd\n",
    "from matplotlib import pyplot as plt\n",
    "from matplotlib.font_manager import FontProperties\n",
    "test = open('JSONcrawler.json',encoding=\"utf8\") #開檔\n",
    "Data = json.load(test) #反序列化(decode)\n",
    "temp = Data.get('Article') #取得 key = \"Title\" 的 value\n",
    "temp"
   ]
  },
  {
   "cell_type": "code",
   "execution_count": null,
   "id": "166f512d",
   "metadata": {},
   "outputs": [],
   "source": [
    "# 這個是瀏覽次數的平均，高於這個平均我們定義他為熱門文章\n",
    "li_avg = []\n",
    "for i in temp:\n",
    "    #print(i['瀏覽次數'])\n",
    "    li_avg.append(int(i['瀏覽次數']))\n",
    "series1 = pd.Series(li_avg)\n",
    "series1_describe = series1.describe()\n",
    "print(\"瀏覽次數:\")\n",
    "print(series1_describe)\n",
    "avg = series1_describe['mean']"
   ]
  },
  {
   "cell_type": "code",
   "execution_count": null,
   "id": "df01a3df",
   "metadata": {},
   "outputs": [],
   "source": [
    "# 抓出高於\"瀏覽次數\"平均的\"標籤\"\n",
    "li_analysis = []\n",
    "for i in temp:\n",
    "    if int(i['瀏覽次數']) > avg:\n",
    "        li_analysis.append(i['標籤'])\n",
    "\n",
    "#print(li_analysis)\n",
    "\n",
    "# 統計抓出來的各\"標籤\"數目\n",
    "dic_analysis = {}\n",
    "for i in li_analysis:\n",
    "    for j in i:\n",
    "        dic_analysis[j] = dic_analysis.get(j,0)+1"
   ]
  },
  {
   "cell_type": "code",
   "execution_count": null,
   "id": "6bcd6e5a",
   "metadata": {},
   "outputs": [],
   "source": [
    "# 把統計後的數目放進list，去找尋平均數\n",
    "li_value_avg = []\n",
    "for i in dic_analysis:\n",
    "    li_value_avg.append(dic_analysis[i])\n",
    "series2 = pd.Series(li_value_avg)\n",
    "series2_describe = series2.describe()\n",
    "print(\"\\n標籤:\")\n",
    "print(series2_describe)\n",
    "print(\"\\n\")\n",
    "max = series2_describe['max']\n",
    "\n",
    "# 利用平均數製作圖表後，發現如果只是利用平均數去篩選，圖表內容會太過龐大，於是觀察圖標，找出\"標籤\"數量大於10是一個不錯的製圖選擇\n",
    "count = 0\n",
    "li_key = []\n",
    "li_value = []\n",
    "for i in dic_analysis:\n",
    "    if dic_analysis[i] > max/10:\n",
    "        li_key.append(i)\n",
    "        li_value.append(dic_analysis[i])\n",
    "        print(i,':',dic_analysis[i])"
   ]
  },
  {
   "cell_type": "code",
   "execution_count": null,
   "id": "539d18b5",
   "metadata": {},
   "outputs": [],
   "source": [
    "#把網路上下載的字體加入\n",
    "myfont = FontProperties(fname=r'./NotoSerifTC-Black.otf')\n",
    "\n",
    "#設定圖片輸出的資訊\n",
    "plt.figure(figsize=(20,20))\n",
    "plt.title(\"Correlation of Views and Tags\")\n",
    "plt.xlabel(\"Tag\")\n",
    "x = range(len(li_key))\n",
    "plt.xticks(rotation=30,ha = \"right\")\n",
    "plt.ylabel(\"Frequency\")\n",
    "plt.bar(li_key,li_value)\n",
    "plt.xticks(x,li_key,fontproperties=myfont)\n",
    "plt.savefig(\"Correlation of Views and Tags Chart\")\n",
    "plt.show()"
   ]
  }
 ],
 "metadata": {
  "kernelspec": {
   "display_name": "Python 3 (ipykernel)",
   "language": "python",
   "name": "python3"
  },
  "language_info": {
   "codemirror_mode": {
    "name": "ipython",
    "version": 3
   },
   "file_extension": ".py",
   "mimetype": "text/x-python",
   "name": "python",
   "nbconvert_exporter": "python",
   "pygments_lexer": "ipython3",
   "version": "3.9.12"
  }
 },
 "nbformat": 4,
 "nbformat_minor": 5
}
